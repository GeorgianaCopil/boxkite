{
 "cells": [
  {
   "cell_type": "code",
   "execution_count": null,
   "metadata": {},
   "outputs": [],
   "source": [
    "import pandas as pd\n",
    "from bedrock_client.bedrock.metrics.service import ModelMonitoringService\n",
    "from sklearn.svm import SVC\n",
    "\n",
    "\n",
    "# User code to load training data\n",
    "features = pd.DataFrame({'a': [1, 2, 3], 'b': [3, 2, 1]})\n",
    "model = SVC(probability=True)\n",
    "model.fit(features, [False, True, False])\n",
    "inference = model.predict_proba(features)[:, 0]\n",
    "\n",
    "ModelMonitoringService.export_text(\n",
    "    features=features.iteritems(),\n",
    "    inference=inference.tolist(),\n",
    ")"
   ]
  }
 ],
 "metadata": {
  "kernelspec": {
   "display_name": "Python 3.8.2 64-bit ('venv': venv)",
   "language": "python",
   "name": "python38264bitvenvvenv13f53731b98d446c9031267d29f6cdca"
  },
  "language_info": {
   "codemirror_mode": {
    "name": "ipython",
    "version": 3
   },
   "file_extension": ".py",
   "mimetype": "text/x-python",
   "name": "python",
   "nbconvert_exporter": "python",
   "pygments_lexer": "ipython3",
   "version": "3.8.5"
  }
 },
 "nbformat": 4,
 "nbformat_minor": 4
}
